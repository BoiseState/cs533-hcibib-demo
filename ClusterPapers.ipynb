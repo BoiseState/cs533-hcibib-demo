{
 "cells": [
  {
   "cell_type": "markdown",
   "metadata": {},
   "source": [
    "# Clustering Example\n",
    "\n",
    "This example notebook applies *k*-means clustering to the CHI data from the [HCI Bibliography](http://hcibib.org), building on the [Week 13 Example](https://cs533.ekstrandom.net/content/week13/Week13/)."
   ]
  },
  {
   "cell_type": "markdown",
   "metadata": {},
   "source": [
    "## Setup"
   ]
  },
  {
   "cell_type": "code",
   "execution_count": 1,
   "metadata": {},
   "outputs": [],
   "source": [
    "import pandas as pd\n",
    "import numpy as np\n",
    "import matplotlib.pyplot as plt\n",
    "import seaborn as sns"
   ]
  },
  {
   "cell_type": "code",
   "execution_count": 2,
   "metadata": {},
   "outputs": [],
   "source": [
    "from sklearn.feature_extraction.text import TfidfVectorizer\n",
    "from sklearn.decomposition import TruncatedSVD\n",
    "from sklearn.pipeline import Pipeline\n",
    "from sklearn.cluster import KMeans\n",
    "from sklearn.manifold import TSNE"
   ]
  },
  {
   "cell_type": "code",
   "execution_count": 3,
   "metadata": {},
   "outputs": [],
   "source": [
    "rng = np.random.RandomState(20201119)"
   ]
  },
  {
   "cell_type": "markdown",
   "metadata": {},
   "source": [
    "## Load Data"
   ]
  },
  {
   "cell_type": "code",
   "execution_count": 4,
   "metadata": {},
   "outputs": [
    {
     "name": "stdout",
     "output_type": "stream",
     "text": [
      "<class 'pandas.core.frame.DataFrame'>\n",
      "RangeIndex: 13422 entries, 0 to 13421\n",
      "Data columns (total 7 columns):\n",
      " #   Column    Non-Null Count  Dtype \n",
      "---  ------    --------------  ----- \n",
      " 0   id        13333 non-null  object\n",
      " 1   title     13416 non-null  object\n",
      " 2   authors   13416 non-null  object\n",
      " 3   date      13422 non-null  object\n",
      " 4   abstract  12926 non-null  object\n",
      " 5   file      13422 non-null  object\n",
      " 6   year      13422 non-null  int64 \n",
      "dtypes: int64(1), object(6)\n",
      "memory usage: 734.1+ KB\n"
     ]
    }
   ],
   "source": [
    "papers = pd.read_csv('chi-papers.csv', encoding='utf8')\n",
    "papers.info()"
   ]
  },
  {
   "cell_type": "markdown",
   "metadata": {},
   "source": [
    "Let's treat empty abstracts as empty strings:"
   ]
  },
  {
   "cell_type": "code",
   "execution_count": 5,
   "metadata": {},
   "outputs": [],
   "source": [
    "papers['abstract'].fillna('', inplace=True)\n",
    "papers['title'].fillna('', inplace=True)"
   ]
  },
  {
   "cell_type": "markdown",
   "metadata": {},
   "source": [
    "For some purposes, we want *all text*.  Let's make a field:"
   ]
  },
  {
   "cell_type": "code",
   "execution_count": 6,
   "metadata": {},
   "outputs": [],
   "source": [
    "papers['all_text'] = papers['title'] + ' ' + papers['abstract']"
   ]
  },
  {
   "cell_type": "markdown",
   "metadata": {},
   "source": [
    "## Raw Clustering\n",
    "\n",
    "Let's set up a *k*-means to make 10 clusters out of our titles and abstracts.  We're going to also limit the term vectors to only the 10K most common words, to make the vectors more manageable."
   ]
  },
  {
   "cell_type": "code",
   "execution_count": 7,
   "metadata": {},
   "outputs": [],
   "source": [
    "cluster_pipe = Pipeline([\n",
    "    ('vectorize', TfidfVectorizer(stop_words='english', max_features=10000)),\n",
    "    ('cluster', KMeans(5, random_state=rng))\n",
    "])"
   ]
  },
  {
   "cell_type": "code",
   "execution_count": 8,
   "metadata": {},
   "outputs": [
    {
     "data": {
      "text/plain": [
       "Pipeline(steps=[('vectorize',\n",
       "                 TfidfVectorizer(max_features=10000, stop_words='english')),\n",
       "                ('cluster',\n",
       "                 KMeans(n_clusters=5,\n",
       "                        random_state=RandomState(MT19937) at 0x1F79F3B4B40))])"
      ]
     },
     "execution_count": 8,
     "metadata": {},
     "output_type": "execute_result"
    }
   ],
   "source": [
    "cluster_pipe.fit(papers['all_text'])"
   ]
  },
  {
   "cell_type": "markdown",
   "metadata": {},
   "source": [
    "Now, if we want clusters for all of our papers, we use `predict`:"
   ]
  },
  {
   "cell_type": "code",
   "execution_count": 9,
   "metadata": {},
   "outputs": [],
   "source": [
    "paper_clusters = cluster_pipe.predict(papers['all_text'])"
   ]
  },
  {
   "cell_type": "code",
   "execution_count": 10,
   "metadata": {},
   "outputs": [
    {
     "name": "stderr",
     "output_type": "stream",
     "text": [
      "C:\\Users\\benjaminpeterson\\Anaconda3\\envs\\cs533-bib\\lib\\site-packages\\seaborn\\_decorators.py:36: FutureWarning: Pass the following variable as a keyword arg: x. From version 0.12, the only valid positional argument will be `data`, and passing other arguments without an explicit keyword will result in an error or misinterpretation.\n",
      "  warnings.warn(\n"
     ]
    },
    {
     "data": {
      "text/plain": [
       "<AxesSubplot:ylabel='count'>"
      ]
     },
     "execution_count": 10,
     "metadata": {},
     "output_type": "execute_result"
    },
    {
     "data": {
      "image/png": "[encoded data removed]",
      "text/plain": [
       "<Figure size 432x288 with 1 Axes>"
      ]
     },
     "metadata": {
      "needs_background": "light"
     },
     "output_type": "display_data"
    }
   ],
   "source": [
    "sns.countplot(paper_clusters)"
   ]
  },
  {
   "cell_type": "markdown",
   "metadata": {},
   "source": [
    "We can, for instance, get the titles of papers in cluster 0:"
   ]
  },
  {
   "cell_type": "code",
   "execution_count": 11,
   "metadata": {},
   "outputs": [
    {
     "data": {
      "text/plain": [
       "15       Interactive Textbook and Interactive Venn Diag...\n",
       "18       Bringing Order to the Web: Automatically Categ...\n",
       "27       An Observational Study of How Objects Support ...\n",
       "28       Tagged Handles: Merging Discrete and Continuou...\n",
       "29       Traversable Interfaces Between Real and Virtua...\n",
       "                               ...                        \n",
       "13368    Bringing sketching tools to keychain computers...\n",
       "13383    A visual language for a sketch-based UI protot...\n",
       "13386    Novice heuristic evaluations of a complex inte...\n",
       "13408    SIG on one size fits all?: cultural diversity ...\n",
       "13418    Use cases in task modeling and user interface ...\n",
       "Name: title, Length: 1399, dtype: object"
      ]
     },
     "execution_count": 11,
     "metadata": {},
     "output_type": "execute_result"
    }
   ],
   "source": [
    "papers.loc[paper_clusters == 0, 'title']"
   ]
  },
  {
   "cell_type": "markdown",
   "metadata": {},
   "source": [
    "This created a Boolean mask that is `True` where the cluster number is equal to 0, and selects those rows and the `'title'` column.\n",
    "\n",
    "Don't know if these papers make any sense, but they are clusters.  We aren't doing anything to find the *most* central papers to the cluster, though.\n",
    "\n",
    "We can get that with `transform`, which will transform papers into *cluster distance space* - columns are the distances between each paper and that cluster:"
   ]
  },
  {
   "cell_type": "code",
   "execution_count": 12,
   "metadata": {},
   "outputs": [],
   "source": [
    "paper_cdist = cluster_pipe.transform(papers['all_text'])"
   ]
  },
  {
   "cell_type": "markdown",
   "metadata": {},
   "source": [
    "And we can find the papers *closest to the center* of cluster 0:"
   ]
  },
  {
   "cell_type": "code",
   "execution_count": 13,
   "metadata": {},
   "outputs": [
    {
     "data": {
      "text/plain": [
       "1520                   Olympic voting system proposal\n",
       "1509         2004 Athens 'Diskos': Olympic voting kit\n",
       "10849      The Ergonomics Psychology Protect at INRIA\n",
       "1450        Ambient urban interludes: passing glances\n",
       "1498                                eLearning and fun\n",
       "1521                PHOTOVOTE: Olympic judging system\n",
       "11518                     Doctoral Consortium Faculty\n",
       "1522                                        Shake it!\n",
       "1460                              Emotion in a ticket\n",
       "11105    Anthropomorphism: From Eliza to Terminator 2\n",
       "Name: title, dtype: object"
      ]
     },
     "execution_count": 13,
     "metadata": {},
     "output_type": "execute_result"
    }
   ],
   "source": [
    "closest = np.argsort(paper_cdist[:, 0])[-10:]\n",
    "papers.iloc[closest]['title']"
   ]
  },
  {
   "cell_type": "markdown",
   "metadata": {},
   "source": [
    "We can also look at clusters in space.  *t*-SNE is a technique for dimensionality reduction that is emphasized on visualizability.  Let's compute the *t*-SNE of our papers:"
   ]
  },
  {
   "cell_type": "code",
   "execution_count": null,
   "metadata": {},
   "outputs": [],
   "source": [
    "sne_pipe = Pipeline([\n",
    "    ('vectorize', TfidfVectorizer(stop_words='english', max_features=10000)),\n",
    "    ('sne', TSNE())\n",
    "])\n",
    "paper_sne = sne_pipe.fit_transform(papers['all_text'])\n",
    "paper_sne"
   ]
  },
  {
   "cell_type": "markdown",
   "metadata": {},
   "source": [
    "Now we can plot:"
   ]
  },
  {
   "cell_type": "code",
   "execution_count": null,
   "metadata": {},
   "outputs": [],
   "source": [
    "paper_viz = pd.DataFrame({\n",
    "    'SNE0': paper_sne[:, 0],\n",
    "    'SNE1': paper_sne[:, 1],\n",
    "    'cluster': paper_clusters\n",
    "})\n",
    "sns.scatterplot('SNE0', 'SNE1', hue='cluster', style='cluster', data=paper_viz)"
   ]
  },
  {
   "cell_type": "markdown",
   "metadata": {},
   "source": [
    "## SVD-based Clusters\n",
    "\n",
    "Let's cluster in reduced-dimensional space:"
   ]
  },
  {
   "cell_type": "code",
   "execution_count": null,
   "metadata": {},
   "outputs": [],
   "source": [
    "svd_cluster_pipe = Pipeline([\n",
    "    ('vectorize', TfidfVectorizer(stop_words='english')),\n",
    "    ('svd', TruncatedSVD(10)),\n",
    "    ('cluster', KMeans(10))\n",
    "])\n",
    "paper_svd_clusters = svd_cluster_pipe.fit_predict(papers['all_text'])"
   ]
  },
  {
   "cell_type": "code",
   "execution_count": null,
   "metadata": {},
   "outputs": [],
   "source": [
    "sns.countplot(paper_svd_clusters)"
   ]
  },
  {
   "cell_type": "code",
   "execution_count": null,
   "metadata": {},
   "outputs": [],
   "source": [
    "paper_svd_cdist = svd_cluster_pipe.transform(papers['all_text'])"
   ]
  },
  {
   "cell_type": "markdown",
   "metadata": {},
   "source": [
    "Let's look at Cluster 0 in this space:"
   ]
  },
  {
   "cell_type": "code",
   "execution_count": null,
   "metadata": {},
   "outputs": [],
   "source": [
    "closest = np.argsort(paper_svd_cdist[:, 0])[-10:]\n",
    "papers.iloc[closest]['title']"
   ]
  },
  {
   "cell_type": "markdown",
   "metadata": {},
   "source": [
    "Not sure if that's better, but it shows the concept."
   ]
  },
  {
   "cell_type": "markdown",
   "metadata": {},
   "source": [
    "Let's do the color-coded SNE visualization:"
   ]
  },
  {
   "cell_type": "code",
   "execution_count": null,
   "metadata": {},
   "outputs": [],
   "source": [
    "paper_viz = pd.DataFrame({\n",
    "    'SNE0': paper_sne[:, 0],\n",
    "    'SNE1': paper_sne[:, 1],\n",
    "    'cluster': paper_svd_clusters\n",
    "})\n",
    "sns.scatterplot('SNE0', 'SNE1', hue='cluster', data=paper_viz)"
   ]
  }
 ],
 "metadata": {
  "kernelspec": {
   "display_name": "Python 3",
   "language": "python",
   "name": "python3"
  },
  "language_info": {
   "codemirror_mode": {
    "name": "ipython",
    "version": 3
   },
   "file_extension": ".py",
   "mimetype": "text/x-python",
   "name": "python",
   "nbconvert_exporter": "python",
   "pygments_lexer": "ipython3",
   "version": "3.8.6"
  }
 },
 "nbformat": 4,
 "nbformat_minor": 4
}
